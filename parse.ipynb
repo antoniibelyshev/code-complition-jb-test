{
 "cells": [
  {
   "cell_type": "code",
   "execution_count": 1,
   "metadata": {},
   "outputs": [
    {
     "name": "stdout",
     "output_type": "stream",
     "text": [
      "kotlin/native/objcexport-header-generator/testDependencies/testLibraryB/src/nativeMain/kotlin/org/jetbrains/b/MyLibraryB.kt\n",
      "kotlin/native/objcexport-header-generator/testDependencies/testLibraryA/src/nativeMain/kotlin/org/jetbrains/a/TopLevelCallables.kt\n",
      "kotlin/native/objcexport-header-generator/testDependencies/testLibraryA/src/nativeMain/kotlin/org/jetbrains/a/MyLibraryA.kt\n",
      "kotlin/native/objcexport-header-generator/testData/forwardDeclarations/propertyReturningClass/Foo.kt\n",
      "kotlin/native/objcexport-header-generator/testData/forwardDeclarations/nullableType/Foo.kt\n",
      "kotlin/native/objcexport-header-generator/testData/forwardDeclarations/propertyReturningInterface/Foo.kt\n",
      "kotlin/native/objcexport-header-generator/testData/forwardDeclarations/functionReturningInterface/Foo.kt\n",
      "kotlin/native/objcexport-header-generator/testData/forwardDeclarations/functionReturningClass/Foo.kt\n",
      "kotlin/native/objcexport-header-generator/testData/dependencies/exportedAndNotExportedDependency/Foo.kt\n",
      "kotlin/native/objcexport-header-generator/testData/dependencies/iterator/Foo.kt\n"
     ]
    }
   ],
   "source": [
    "import os\n",
    "import fnmatch\n",
    "\n",
    "def find_kotlin_files(directory):\n",
    "    kotlin_files = []\n",
    "    for root, dirs, files in os.walk(directory):\n",
    "        for file in files:\n",
    "            if fnmatch.fnmatch(file, '*.kt'):\n",
    "                kotlin_files.append(os.path.join(root, file))\n",
    "    return kotlin_files\n",
    "\n",
    "# Provide the directory path to search\n",
    "repo_directory = \"kotlin/\"\n",
    "\n",
    "# Find all Kotlin files in the repository\n",
    "kotlin_files = find_kotlin_files(repo_directory)\n",
    "\n",
    "# Print the paths of Kotlin files\n",
    "for file in kotlin_files[:10]:\n",
    "    print(file)"
   ]
  },
  {
   "cell_type": "code",
   "execution_count": 2,
   "metadata": {},
   "outputs": [],
   "source": [
    "from kopyt import Parser, node"
   ]
  },
  {
   "cell_type": "code",
   "execution_count": 3,
   "metadata": {},
   "outputs": [],
   "source": [
    "from typing import List\n",
    "from dataclasses import dataclass\n",
    "from collections import namedtuple\n",
    "from tqdm import tqdm\n",
    "\n",
    "\n",
    "@dataclass\n",
    "class Function:\n",
    "    definition: str\n",
    "    prompt: str\n",
    "    body: str\n",
    "\n",
    "    def __init__(self, declaration: node.FunctionDeclaration):\n",
    "        self.definition = str(declaration)\n",
    "        params = [f\"{param.name}: {param.type}\" for param in declaration.parameters]\n",
    "        \n",
    "        self.prompt = f\"fun {declaration.name}({', '.join(params)}): {declaration.type} \"\n",
    "        self.body = str(declaration.body)\n",
    "\n",
    "        del params, declaration\n",
    "\n",
    "\n",
    "def find_functions(kotlin_code: str) -> List[Function]:\n",
    "    try:\n",
    "        declarations = Parser(kotlin_code).parse().declarations\n",
    "    except:\n",
    "        return []\n",
    "    res = [Function(declaration) for declaration in declarations if isinstance(declaration, node.FunctionDeclaration)]\n",
    "    del declarations, kotlin_code\n",
    "    return res\n",
    "    \n",
    "\n",
    "\n",
    "# functions: List[Function] = []\n",
    "# for filename in tqdm(kotlin_files):\n",
    "#     # if filename == kotlin_files[8373]:\n",
    "#     #     continue\n",
    "#     with open(filename) as f:\n",
    "#         functions.extend(find_functions(\"\".join(f.readlines())))\n"
   ]
  },
  {
   "cell_type": "code",
   "execution_count": 4,
   "metadata": {},
   "outputs": [
    {
     "name": "stderr",
     "output_type": "stream",
     "text": [
      "  7%|▋         | 3698/54532 [00:00<00:01, 36973.42it/s]"
     ]
    },
    {
     "name": "stderr",
     "output_type": "stream",
     "text": [
      "100%|██████████| 54532/54532 [00:01<00:00, 39194.54it/s]\n"
     ]
    }
   ],
   "source": [
    "code = []\n",
    "bad_files = []\n",
    "for filename in tqdm(kotlin_files):\n",
    "    with open(filename) as f:\n",
    "        try:\n",
    "            code.append(\"\".join(f.readlines()))\n",
    "        except:\n",
    "            bad_files.append(filename)"
   ]
  },
  {
   "cell_type": "code",
   "execution_count": 5,
   "metadata": {},
   "outputs": [
    {
     "name": "stderr",
     "output_type": "stream",
     "text": [
      "  0%|          | 197/54532 [00:00<00:28, 1904.82it/s]"
     ]
    },
    {
     "name": "stderr",
     "output_type": "stream",
     "text": [
      "100%|██████████| 54532/54532 [00:38<00:00, 1422.42it/s]\n"
     ]
    }
   ],
   "source": [
    "parsers = []\n",
    "bad_code = []\n",
    "for code_ in tqdm(code):\n",
    "    if code_ == \"\":\n",
    "        continue\n",
    "    try:\n",
    "        parsers.append(Parser(code_))\n",
    "    except:\n",
    "        bad_code.append(code_)"
   ]
  },
  {
   "cell_type": "code",
   "execution_count": 7,
   "metadata": {},
   "outputs": [
    {
     "name": "stderr",
     "output_type": "stream",
     "text": [
      " 68%|██████▊   | 36505/53532 [07:52<01:46, 159.59it/s] "
     ]
    }
   ],
   "source": [
    "def parse(filename):\n",
    "    try:\n",
    "        with open(filename) as f:\n",
    "            return Parser(f.read()).parse()\n",
    "    except:\n",
    "        return None\n",
    "\n",
    "\n",
    "results = [parse(filename) for filename in tqdm (kotlin_files[:8000] + kotlin_files[9000:])]"
   ]
  },
  {
   "cell_type": "code",
   "execution_count": 5,
   "metadata": {},
   "outputs": [
    {
     "name": "stderr",
     "output_type": "stream",
     "text": [
      " 16%|█▌        | 1256/8000 [00:45<01:17, 86.58it/s] "
     ]
    },
    {
     "name": "stderr",
     "output_type": "stream",
     "text": [
      " 17%|█▋        | 1342/8000 [00:46<01:08, 96.53it/s] "
     ]
    }
   ],
   "source": [
    "results = []\n",
    "results.extend([parse(filename) for filename in tqdm (kotlin_files[8000:16000])])"
   ]
  },
  {
   "cell_type": "code",
   "execution_count": 6,
   "metadata": {},
   "outputs": [
    {
     "name": "stdout",
     "output_type": "stream",
     "text": [
      "// TARGET_BACKEND: JVM\n",
      "\n",
      "// FILE: MyInt.java\n",
      "\n",
      "public interface MyInt {\n",
      "\n",
      "    String test();\n",
      "}\n",
      "\n",
      "// FILE: test.kt\n",
      "\n",
      "interface A : MyInt {\n",
      "    override public fun test(): String? {\n",
      "        return \"OK\"\n",
      "    }\n",
      "}\n",
      "\n",
      "class B: A\n",
      "\n",
      "fun box() : String {\n",
      "    return B().test()!!\n",
      "}\n",
      "\n"
     ]
    }
   ],
   "source": [
    "with open(kotlin_files[8373]) as f:\n",
    "    print(f.read())"
   ]
  },
  {
   "cell_type": "code",
   "execution_count": null,
   "metadata": {},
   "outputs": [],
   "source": []
  }
 ],
 "metadata": {
  "kernelspec": {
   "display_name": "Python 3",
   "language": "python",
   "name": "python3"
  },
  "language_info": {
   "codemirror_mode": {
    "name": "ipython",
    "version": 3
   },
   "file_extension": ".py",
   "mimetype": "text/x-python",
   "name": "python",
   "nbconvert_exporter": "python",
   "pygments_lexer": "ipython3",
   "version": "3.9.18"
  }
 },
 "nbformat": 4,
 "nbformat_minor": 2
}
