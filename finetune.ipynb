{
 "cells": [
  {
   "cell_type": "code",
   "execution_count": 1,
   "metadata": {},
   "outputs": [
    {
     "name": "stderr",
     "output_type": "stream",
     "text": [
      "/home/coder/.local/lib/rolos-ml-p39/site-packages/tqdm/auto.py:21: TqdmWarning: IProgress not found. Please update jupyter and ipywidgets. See https://ipywidgets.readthedocs.io/en/stable/user_install.html\n",
      "  from .autonotebook import tqdm as notebook_tqdm\n"
     ]
    }
   ],
   "source": [
    "from transformers import AutoTokenizer, AutoModelForSeq2SeqLM, DataCollatorForSeq2Seq, Seq2SeqTrainingArguments, Seq2SeqTrainer\n",
    "import torch\n",
    "device = torch.device(\"cuda\" if torch.cuda.is_available() else \"cpu\")\n",
    "import numpy as np\n",
    "from torch.utils.data import Dataset"
   ]
  },
  {
   "cell_type": "code",
   "execution_count": 2,
   "metadata": {},
   "outputs": [],
   "source": [
    "from transformers import PhiForCausalLM\n",
    "\n",
    "model_name = \"microsoft/phi-1_5\"\n",
    "tokenizer = AutoTokenizer.from_pretrained(model_name)\n",
    "tokenizer.pad_token = tokenizer.eos_token\n",
    "model = PhiForCausalLM.from_pretrained(model_name).to(device)"
   ]
  },
  {
   "cell_type": "code",
   "execution_count": 3,
   "metadata": {},
   "outputs": [],
   "source": [
    "import json\n",
    "from collections import defaultdict\n",
    "\n",
    "python_texts = defaultdict(list)\n",
    "\n",
    "replacements = {\n",
    "    '<EOL>': '\\n',\n",
    "    '<INDENT>': '    ',\n",
    "    '<DEDENT>': '',\n",
    "    '<STR_LIT>': '',\n",
    "    '<NUM_LIT>': '',\n",
    "}\n",
    "\n",
    "for split in [\"train\", \"dev\", \"test\"]:\n",
    "    with open(f\"codexglue_method_generation/{split}.jsonl\", \"r\") as file:\n",
    "        # Read lines and process each one\n",
    "        for line in file:\n",
    "            data = json.loads(line)\n",
    "\n",
    "            signature = data['signature']\n",
    "\n",
    "            body = data['body']\n",
    "            for symbol, replacement in replacements.items():\n",
    "                body = body.replace(symbol, replacement)\n",
    "\n",
    "            docstring = data['docstring']\n",
    "\n",
    "            python_texts[split].append(\"\\n    \".join([signature, docstring, body]) + tokenizer.eos_token)"
   ]
  },
  {
   "cell_type": "code",
   "execution_count": 4,
   "metadata": {},
   "outputs": [],
   "source": [
    "import os\n",
    "import fnmatch\n",
    "\n",
    "kotlin_texts = []\n",
    "for root, dirs, files in os.walk(\"./kotlin/\"):\n",
    "    for file in files:\n",
    "        if fnmatch.fnmatch(file, '*.kt'):\n",
    "            with open(os.path.join(root, file)) as f:\n",
    "                kotlin_texts.append(\"\".join(f.readlines()))\n",
    "\n",
    "kotlin_texts = [*filter(None, kotlin_texts)]"
   ]
  },
  {
   "cell_type": "code",
   "execution_count": 5,
   "metadata": {},
   "outputs": [],
   "source": [
    "from sklearn.model_selection import train_test_split"
   ]
  },
  {
   "cell_type": "code",
   "execution_count": 6,
   "metadata": {},
   "outputs": [],
   "source": [
    "train_kotlin_texts, test_kotlin_texts = train_test_split(kotlin_texts, test_size=20000)"
   ]
  },
  {
   "cell_type": "code",
   "execution_count": 7,
   "metadata": {},
   "outputs": [
    {
     "data": {
      "text/plain": [
       "34501"
      ]
     },
     "execution_count": 7,
     "metadata": {},
     "output_type": "execute_result"
    }
   ],
   "source": [
    "len(train_kotlin_texts)"
   ]
  },
  {
   "cell_type": "code",
   "execution_count": 8,
   "metadata": {},
   "outputs": [
    {
     "data": {
      "text/plain": [
       "20000"
      ]
     },
     "execution_count": 8,
     "metadata": {},
     "output_type": "execute_result"
    }
   ],
   "source": [
    "len(test_kotlin_texts)"
   ]
  },
  {
   "cell_type": "code",
   "execution_count": 9,
   "metadata": {},
   "outputs": [
    {
     "name": "stdout",
     "output_type": "stream",
     "text": [
      "|===========================================================================|\n",
      "|                  PyTorch CUDA memory summary, device ID 0                 |\n",
      "|---------------------------------------------------------------------------|\n",
      "|            CUDA OOMs: 0            |        cudaMalloc retries: 0         |\n",
      "|===========================================================================|\n",
      "|        Metric         | Cur Usage  | Peak Usage | Tot Alloc  | Tot Freed  |\n",
      "|---------------------------------------------------------------------------|\n",
      "| Allocated memory      |   5422 MiB |   5422 MiB |   5422 MiB |      0 B   |\n",
      "|       from large pool |   5408 MiB |   5408 MiB |   5408 MiB |      0 B   |\n",
      "|       from small pool |     14 MiB |     14 MiB |     14 MiB |      0 B   |\n",
      "|---------------------------------------------------------------------------|\n",
      "| Active memory         |   5422 MiB |   5422 MiB |   5422 MiB |      0 B   |\n",
      "|       from large pool |   5408 MiB |   5408 MiB |   5408 MiB |      0 B   |\n",
      "|       from small pool |     14 MiB |     14 MiB |     14 MiB |      0 B   |\n",
      "|---------------------------------------------------------------------------|\n",
      "| Requested memory      |   5422 MiB |   5422 MiB |   5422 MiB |      0 B   |\n",
      "|       from large pool |   5408 MiB |   5408 MiB |   5408 MiB |      0 B   |\n",
      "|       from small pool |     14 MiB |     14 MiB |     14 MiB |      0 B   |\n",
      "|---------------------------------------------------------------------------|\n",
      "| GPU reserved memory   |   5424 MiB |   5424 MiB |   5424 MiB |      0 B   |\n",
      "|       from large pool |   5408 MiB |   5408 MiB |   5408 MiB |      0 B   |\n",
      "|       from small pool |     16 MiB |     16 MiB |     16 MiB |      0 B   |\n",
      "|---------------------------------------------------------------------------|\n",
      "| Non-releasable memory |   1756 KiB |   2047 KiB |  14832 KiB |  13076 KiB |\n",
      "|       from large pool |      0 KiB |      0 KiB |      0 KiB |      0 KiB |\n",
      "|       from small pool |   1756 KiB |   2047 KiB |  14832 KiB |  13076 KiB |\n",
      "|---------------------------------------------------------------------------|\n",
      "| Allocations           |     413    |     413    |     413    |       0    |\n",
      "|       from large pool |     146    |     146    |     146    |       0    |\n",
      "|       from small pool |     267    |     267    |     267    |       0    |\n",
      "|---------------------------------------------------------------------------|\n",
      "| Active allocs         |     413    |     413    |     413    |       0    |\n",
      "|       from large pool |     146    |     146    |     146    |       0    |\n",
      "|       from small pool |     267    |     267    |     267    |       0    |\n",
      "|---------------------------------------------------------------------------|\n",
      "| GPU reserved segments |     154    |     154    |     154    |       0    |\n",
      "|       from large pool |     146    |     146    |     146    |       0    |\n",
      "|       from small pool |       8    |       8    |       8    |       0    |\n",
      "|---------------------------------------------------------------------------|\n",
      "| Non-releasable allocs |       3    |       3    |       8    |       5    |\n",
      "|       from large pool |       0    |       0    |       0    |       0    |\n",
      "|       from small pool |       3    |       3    |       8    |       5    |\n",
      "|---------------------------------------------------------------------------|\n",
      "| Oversize allocations  |       0    |       0    |       0    |       0    |\n",
      "|---------------------------------------------------------------------------|\n",
      "| Oversize GPU segments |       0    |       0    |       0    |       0    |\n",
      "|===========================================================================|\n",
      "\n"
     ]
    }
   ],
   "source": [
    "print(torch.cuda.memory_summary())"
   ]
  },
  {
   "cell_type": "code",
   "execution_count": 10,
   "metadata": {},
   "outputs": [],
   "source": [
    "import torch\n",
    "from torch.optim import AdamW\n",
    "from torch.utils.data import Dataset, DataLoader\n",
    "from tqdm import tqdm\n",
    "\n",
    "class CustomDataset(Dataset):\n",
    "    def __init__(self, texts, tokenizer):\n",
    "        self.texts = texts\n",
    "        self.tokenizer = tokenizer\n",
    "        \n",
    "    def __len__(self):\n",
    "        return len(self.texts)\n",
    "    \n",
    "    def __getitem__(self, idx):\n",
    "        text = self.texts[idx]\n",
    "        encoding = self.tokenizer(text, padding=True)\n",
    "        res =  {\n",
    "            'input_ids': torch.tensor(encoding['input_ids']),\n",
    "            'attention_mask': torch.tensor(encoding['attention_mask'])\n",
    "        }\n",
    "\n",
    "        del text, encoding\n",
    "\n",
    "        return res\n",
    "\n",
    "\n",
    "# Define your fine-tuning data\n",
    "train_texts = train_kotlin_texts\n",
    "# val_texts = texts[\"dev\"]\n",
    "\n",
    "# # Tokenize the data\n",
    "# train_encodings = tokenizer(train_texts, truncation=True, padding=True)\n",
    "# val_encodings = tokenizer(val_texts, truncation=True, padding=True)\n",
    "\n",
    "# Define custom dataset\n",
    "train_dataset = CustomDataset(train_texts, tokenizer)\n",
    "# val_dataset = CustomDataset(val_encodings)"
   ]
  },
  {
   "cell_type": "code",
   "execution_count": 11,
   "metadata": {},
   "outputs": [
    {
     "name": "stderr",
     "output_type": "stream",
     "text": [
      "Epoch [1/1], Loss: 1.1302: 100%|██████████| 17251/17251 [1:44:22<00:00,  2.75it/s]  \n"
     ]
    }
   ],
   "source": [
    "# Define DataLoader\n",
    "train_loader = DataLoader(torch.arange(len(train_texts)), batch_size=2, shuffle=True)\n",
    "# val_loader = DataLoader(val_dataset, batch_size=1)\n",
    "\n",
    "for param in model.parameters():\n",
    "    param.requires_grad = False\n",
    "\n",
    "for param in model.model.layers[-1].parameters():\n",
    "    param.requires_grad = True\n",
    "\n",
    "# Fine-tuning parameters\n",
    "epochs = 1\n",
    "learning_rate = 5e-5\n",
    "\n",
    "# Define optimizer and scheduler\n",
    "optimizer = AdamW(model.parameters(), lr=learning_rate)\n",
    "scheduler = torch.optim.lr_scheduler.StepLR(optimizer, step_size=1, gamma=0.1)\n",
    "\n",
    "# Fine-tuning loop\n",
    "for epoch in range(epochs):\n",
    "    model.train()\n",
    "    progress_bar = tqdm(train_loader, total=len(train_loader))\n",
    "    for batch_num, batch in enumerate(progress_bar):\n",
    "        tokens = tokenizer([train_texts[i] for i in batch], padding=True, truncation=True)\n",
    "        del batch\n",
    "\n",
    "        input_ids = torch.tensor(tokens['input_ids'], device=device)\n",
    "        attention_mask = torch.tensor(tokens['attention_mask'], device=device)\n",
    "        del tokens\n",
    "        \n",
    "        optimizer.zero_grad()\n",
    "        loss = model(input_ids=input_ids, attention_mask=attention_mask, labels=input_ids).loss\n",
    "        del input_ids, attention_mask\n",
    "\n",
    "        loss.backward()\n",
    "        optimizer.step()\n",
    "\n",
    "        progress_bar.set_description(f'Epoch [{epoch+1}/{epochs}], Loss: {loss:.4f}')\n",
    "        torch.cuda.empty_cache()\n",
    "\n",
    "# Save the fine-tuned model\n",
    "model.save_pretrained(\"fine_tuned_model\")"
   ]
  },
  {
   "cell_type": "code",
   "execution_count": 12,
   "metadata": {},
   "outputs": [],
   "source": [
    "test_prompts = []\n",
    "test_ground_truths = []\n",
    "with open(f\"codexglue_method_generation/dev.jsonl\", \"r\") as file:\n",
    "    for line in file:\n",
    "        data = json.loads(line)\n",
    "\n",
    "        signature = data['signature']\n",
    "\n",
    "        body = data['body']\n",
    "        for symbol, replacement in replacements.items():\n",
    "            body = body.replace(symbol, replacement)\n",
    "\n",
    "        docstring = data['docstring']\n",
    "\n",
    "\n",
    "        test_prompts.append(\"\\n    \".join([signature, docstring, \"\"]))\n",
    "        test_ground_truths.append(body)"
   ]
  },
  {
   "cell_type": "code",
   "execution_count": 13,
   "metadata": {},
   "outputs": [],
   "source": [
    "from nltk.translate.bleu_score import corpus_bleu\n",
    "from rouge import Rouge\n",
    "\n",
    "# Define function to calculate BLEU score\n",
    "def calculate_bleu_score(predictions, references):\n",
    "    return corpus_bleu([[ref.split()] for ref in references], [pred.split() for pred in predictions])\n",
    "\n",
    "# Define function to calculate ROUGE score\n",
    "def calculate_rouge_score(predictions, references):\n",
    "    rouge = Rouge()\n",
    "    scores = rouge.get_scores(predictions, references, avg=True)\n",
    "    return scores['rouge-1']['f'], scores['rouge-2']['f'], scores['rouge-l']['f']\n",
    "\n",
    "def generate_code_completions(prompts, max_length=100):\n",
    "    generated_completions = []\n",
    "    model.eval()\n",
    "    with torch.no_grad():\n",
    "        for prompt in tqdm(prompts):\n",
    "            prompt_tensor = tokenizer.encode(prompt, return_tensors=\"pt\").to(model.device)\n",
    "            output = model.generate(\n",
    "                prompt_tensor,\n",
    "                max_new_tokens=max_length,\n",
    "                num_return_sequences=1,\n",
    "                pad_token_id=model.config.pad_token_id,\n",
    "                eos_token_id=model.config.eos_token_id,\n",
    "                bos_token_id=model.config.bos_token_id,\n",
    "            )\n",
    "            completion = tokenizer.decode(output[0], skip_special_tokens=True)\n",
    "            generated_completions.append(completion)\n",
    "    return generated_completions"
   ]
  },
  {
   "cell_type": "code",
   "execution_count": 14,
   "metadata": {},
   "outputs": [
    {
     "name": "stderr",
     "output_type": "stream",
     "text": [
      "100%|██████████| 100/100 [03:32<00:00,  2.13s/it]\n"
     ]
    }
   ],
   "source": [
    "generated_code_completions = generate_code_completions(test_ground_truths[:100])"
   ]
  },
  {
   "cell_type": "code",
   "execution_count": 15,
   "metadata": {},
   "outputs": [],
   "source": [
    "# Calculate evaluation metrics\n",
    "accuracy = sum(1 for pred, gt in zip(generated_code_completions, test_ground_truths) if pred == gt) / len(test_ground_truths[:100])\n",
    "bleu_score = calculate_bleu_score(generated_code_completions, test_ground_truths[:100])\n",
    "rouge_score_1, rouge_score_2, rouge_score_l = calculate_rouge_score(generated_code_completions, test_ground_truths[:100])"
   ]
  },
  {
   "cell_type": "code",
   "execution_count": 16,
   "metadata": {},
   "outputs": [
    {
     "name": "stdout",
     "output_type": "stream",
     "text": [
      "Accuracy: 0.18\n",
      "BLEU Score: 0.4549734399414975\n",
      "ROUGE Score (Rouge-1): 0.7116888585890401\n",
      "ROUGE Score (Rouge-2): 0.6705616467824721\n",
      "ROUGE Score (Rouge-L): 0.7116888585890401\n"
     ]
    }
   ],
   "source": [
    "print(\"Accuracy:\", accuracy)\n",
    "print(\"BLEU Score:\", bleu_score)\n",
    "print(\"ROUGE Score (Rouge-1):\", rouge_score_1)\n",
    "print(\"ROUGE Score (Rouge-2):\", rouge_score_2)\n",
    "print(\"ROUGE Score (Rouge-L):\", rouge_score_l)"
   ]
  },
  {
   "cell_type": "code",
   "execution_count": null,
   "metadata": {},
   "outputs": [],
   "source": []
  }
 ],
 "metadata": {
  "kernelspec": {
   "display_name": "Python 3",
   "language": "python",
   "name": "python3"
  },
  "language_info": {
   "codemirror_mode": {
    "name": "ipython",
    "version": 3
   },
   "file_extension": ".py",
   "mimetype": "text/x-python",
   "name": "python",
   "nbconvert_exporter": "python",
   "pygments_lexer": "ipython3",
   "version": "3.8.10"
  }
 },
 "nbformat": 4,
 "nbformat_minor": 2
}
